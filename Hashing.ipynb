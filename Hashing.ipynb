{
 "cells": [
  {
   "cell_type": "markdown",
   "id": "1a1308be",
   "metadata": {},
   "source": [
    "# Hashing "
   ]
  },
  {
   "cell_type": "code",
   "execution_count": 13,
   "id": "aa4741e1",
   "metadata": {},
   "outputs": [
    {
     "name": "stdout",
     "output_type": "stream",
     "text": [
      "In database: b'$2b$12$WltLeOZ2vzZsLIdAjlBGj.eXUqp8hD0kvnWug5Nkrh14zuC3.IuPS'\n",
      "In database: b'$2b$12$XkyOC2C5kkYdEPu0PTfI9.h4OwZ0j6XvMoxwjLkYpmj21ep0UVCde'\n",
      "It matches\n"
     ]
    }
   ],
   "source": [
    "import bcrypt\n",
    "\n",
    "password =b\"Afraim77janina\"\n",
    "passW= b\"SazidSir\" #b for byte string to make it a hash afterwards\n",
    "\n",
    "hashed= bcrypt.hashpw(password,bcrypt.gensalt())\n",
    "hashedW= bcrypt.hashpw(passW,bcrypt.gensalt())#salt hocche randomly generated hashingnumbers\n",
    "\n",
    "print(f\"In database:\",hashed) #printing for example\n",
    "print(f\"In database:\",hashedW)\n",
    "\n",
    "if bcrypt.checkpw(password,hashed): #check korbo database er shathe miltese kina\n",
    "    print(\"It matches\")\n",
    "else:\n",
    "    print(\"didnt match\")\n",
    "        "
   ]
  },
  {
   "cell_type": "code",
   "execution_count": null,
   "id": "6a64b75b",
   "metadata": {},
   "outputs": [],
   "source": []
  }
 ],
 "metadata": {
  "kernelspec": {
   "display_name": "Python 3 (ipykernel)",
   "language": "python",
   "name": "python3"
  },
  "language_info": {
   "codemirror_mode": {
    "name": "ipython",
    "version": 3
   },
   "file_extension": ".py",
   "mimetype": "text/x-python",
   "name": "python",
   "nbconvert_exporter": "python",
   "pygments_lexer": "ipython3",
   "version": "3.9.12"
  }
 },
 "nbformat": 4,
 "nbformat_minor": 5
}
