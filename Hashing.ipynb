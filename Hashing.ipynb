{
 "cells": [
  {
   "cell_type": "markdown",
   "id": "d16399ae",
   "metadata": {},
   "source": [
    "# Hashing "
   ]
  },
  {
   "cell_type": "code",
   "execution_count": 8,
   "id": "b06f9063",
   "metadata": {},
   "outputs": [
    {
     "name": "stdout",
     "output_type": "stream",
     "text": [
      "In database: b'$2b$12$sQOeQnV71HnHs4taJkjvK.4ERmZPh.HecO4XB6uPK0Xioc0/nA7fa'\n",
      "It matches\n"
     ]
    }
   ],
   "source": [
    "import bcrypt\n",
    "\n",
    "password =b\"Afraim77janina\" #b for byte string to make it a hash afterwards\n",
    "print(f\"In database:\",hashed)\n",
    "hashed= bcrypt.hashpw(password,bcrypt.gensalt()) #salt hocche randomly generated hashingnumbers\n",
    "\n",
    "if bcrypt.checkpw(password,hashed):\n",
    "    print(\"It matches\")\n",
    "else:\n",
    "    print(\"didnt match\")\n",
    "        "
   ]
  },
  {
   "cell_type": "code",
   "execution_count": null,
   "id": "1e4fb1d7",
   "metadata": {},
   "outputs": [],
   "source": []
  }
 ],
 "metadata": {
  "kernelspec": {
   "display_name": "Python 3 (ipykernel)",
   "language": "python",
   "name": "python3"
  },
  "language_info": {
   "codemirror_mode": {
    "name": "ipython",
    "version": 3
   },
   "file_extension": ".py",
   "mimetype": "text/x-python",
   "name": "python",
   "nbconvert_exporter": "python",
   "pygments_lexer": "ipython3",
   "version": "3.9.12"
  }
 },
 "nbformat": 4,
 "nbformat_minor": 5
}
