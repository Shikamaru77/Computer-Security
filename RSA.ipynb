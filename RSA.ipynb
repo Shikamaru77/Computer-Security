{
 "cells": [
  {
   "cell_type": "markdown",
   "id": "1c2e50e9",
   "metadata": {},
   "source": [
    "**\"Team DeadSec\"**"
   ]
  },
  {
   "attachments": {},
   "cell_type": "markdown",
   "id": "ac554d7e",
   "metadata": {},
   "source": [
    "# RSA Encryption using Euclidean Algorithm"
   ]
  },
  {
   "cell_type": "code",
   "execution_count": 6,
   "id": "5e56da24",
   "metadata": {},
   "outputs": [
    {
     "name": "stdout",
     "output_type": "stream",
     "text": [
      "Enter the text to be encrypted: Afraim\n",
      "Encrypted message: 475359404713265983163470074513\n",
      "Decrypted message: Afraim\n"
     ]
    }
   ],
   "source": [
    "#from utils import *\n",
    "def is_prime(x):\n",
    "    '''\n",
    "    Takes an integer x and returns True if x is a prime number\n",
    "    and Flase if x is not a prime number.\n",
    "    '''\n",
    "    for i in range(2, x-1):\n",
    "        if x % i == 0:\n",
    "            return False\n",
    "    else:\n",
    "        return True\n",
    "\n",
    "def gcd(a, b):\n",
    "    '''\n",
    "    Computes the Greates Common Divisor (gcd) between integers a, b.\n",
    "    '''\n",
    "    if b == 0:\n",
    "        return a \n",
    "    else: \n",
    "        return gcd(b, a%b) \n",
    "\n",
    "def extended_gcd(x, y):\n",
    "    '''\n",
    "    Extended Euclidean algortihm between integers x, y to find\n",
    "    the modular multiplicative inverse d of x under modulo y. \n",
    "    '''\n",
    "    if y == 0:   \n",
    "        return x, 1, 0\n",
    "             \n",
    "    d, a, b = extended_gcd(y, x % y)  \n",
    "     \n",
    "    return d, b, a - (x // y) * b\n",
    "\n",
    "def encrypt(public_key, message):\n",
    "    '''\n",
    "    Encryptes a string message using a public_key as a tuple of (n, e).\n",
    "    '''\n",
    "    encrypted = []\n",
    "    for character in message:\n",
    "        int_message = ord(character)\n",
    "        n, e = public_key\n",
    "        c = pow(int_message, e) % n \n",
    "        encrypted.append(c)\n",
    "    return encrypted\n",
    "\n",
    "def decrypt(private_key, encrypted):\n",
    "    '''\n",
    "    Decryptes a string message using a private_key as a tuple of (n, d).\n",
    "    '''\n",
    "    decrypted = []\n",
    "    for character in encrypted:\n",
    "        n, d = private_key\n",
    "        int_message = pow(character, d) % n\n",
    "        message = chr(int_message)\n",
    "        decrypted.append(message)\n",
    "    return decrypted\n",
    "\n",
    "#new \n",
    "import random\n",
    "\n",
    "primes = [i for i in range(100, 500) if is_prime(i)]\n",
    "p = random.choice(primes)\n",
    "q = random.choice(primes)\n",
    "message = input('Enter the text to be encrypted: ')\n",
    "\n",
    "n = p*q\n",
    "k = (p-1)*(q-1) \n",
    "\n",
    "for e in range(2, k):\n",
    "    if gcd(e, k) == 1:\n",
    "        break\n",
    "\n",
    "public_key = (n, e)\n",
    "\n",
    "_, b, _ = extended_gcd(e, k)\n",
    "if b < 0:\n",
    "    b = b + k\n",
    "private_key = (n, b)\n",
    "\n",
    "encrypted = encrypt(public_key, message)\n",
    "print(f'Encrypted message: {\"\".join(str(s) for s in encrypted)}')\n",
    "\n",
    "decrypted = decrypt(private_key, encrypted)\n",
    "print(f'Decrypted message: {\"\".join(str(s) for s in decrypted)}')"
   ]
  },
  {
   "cell_type": "code",
   "execution_count": null,
   "id": "992d75b1",
   "metadata": {},
   "outputs": [],
   "source": []
  }
 ],
 "metadata": {
  "kernelspec": {
   "display_name": "Python 3 (ipykernel)",
   "language": "python",
   "name": "python3"
  },
  "language_info": {
   "codemirror_mode": {
    "name": "ipython",
    "version": 3
   },
   "file_extension": ".py",
   "mimetype": "text/x-python",
   "name": "python",
   "nbconvert_exporter": "python",
   "pygments_lexer": "ipython3",
   "version": "3.9.12"
  }
 },
 "nbformat": 4,
 "nbformat_minor": 5
}
